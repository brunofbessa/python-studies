{
 "cells": [
  {
   "cell_type": "markdown",
   "id": "02fb8229",
   "metadata": {},
   "source": [
    "### closures"
   ]
  },
  {
   "cell_type": "code",
   "execution_count": 3,
   "id": "541d4fda",
   "metadata": {},
   "outputs": [
    {
     "data": {
      "text/plain": [
       "('x',)"
      ]
     },
     "execution_count": 3,
     "metadata": {},
     "output_type": "execute_result"
    }
   ],
   "source": [
    "def outer():\n",
    "    x = 'python'\n",
    "    def inner():\n",
    "        print(x)\n",
    "    return inner\n",
    "\n",
    "fn = outer()\n",
    "fn.__code__.co_freevars"
   ]
  },
  {
   "cell_type": "code",
   "execution_count": 7,
   "id": "4e186ca5",
   "metadata": {},
   "outputs": [
    {
     "name": "stdout",
     "output_type": "stream",
     "text": [
      "0x7ff3b640fc40\n"
     ]
    }
   ],
   "source": [
    "def outer():\n",
    "    x = [1, 2, 3]\n",
    "    def inner():\n",
    "        y = x\n",
    "        print(hex(id(x)))\n",
    "    return inner\n",
    "\n",
    "fn = outer()\n",
    "fn()\n",
    "#fn.__code__.co_freevars"
   ]
  },
  {
   "cell_type": "code",
   "execution_count": 10,
   "id": "b4899cee",
   "metadata": {},
   "outputs": [
    {
     "data": {
      "text/plain": [
       "1"
      ]
     },
     "execution_count": 10,
     "metadata": {},
     "output_type": "execute_result"
    }
   ],
   "source": [
    "def outer():\n",
    "    count = 0\n",
    "    def inc():\n",
    "        nonlocal count\n",
    "        count += 1\n",
    "        return count\n",
    "    return inc\n",
    "\n",
    "fn = outer()\n",
    "fn()\n",
    "#fn.__code__.co_freevars"
   ]
  },
  {
   "cell_type": "markdown",
   "id": "6b9d795d",
   "metadata": {},
   "source": [
    "### decorators"
   ]
  },
  {
   "cell_type": "code",
   "execution_count": 23,
   "id": "eb8b869d",
   "metadata": {},
   "outputs": [
    {
     "name": "stdout",
     "output_type": "stream",
     "text": [
      "print was called 1 times\n",
      "\n"
     ]
    }
   ],
   "source": [
    "def counter(fn):\n",
    "    count = 0\n",
    "    def inner(*args, **kwargs):\n",
    "        nonlocal count\n",
    "        count += 1\n",
    "        print(\"{0} was called {1} times\".format(fn.__name__, count))\n",
    "        return fn(*args, **kwargs)\n",
    "    return inner\n",
    "\n",
    "\n",
    "a = counter(print)\n",
    "a()"
   ]
  },
  {
   "cell_type": "code",
   "execution_count": 37,
   "id": "0a4ec6e0",
   "metadata": {},
   "outputs": [
    {
     "name": "stdout",
     "output_type": "stream",
     "text": [
      "0\n",
      "print was called 15 times\n",
      "\n"
     ]
    }
   ],
   "source": [
    "print(0)\n",
    "a()"
   ]
  },
  {
   "cell_type": "code",
   "execution_count": null,
   "id": "609cbdcd",
   "metadata": {},
   "outputs": [],
   "source": []
  },
  {
   "cell_type": "code",
   "execution_count": null,
   "id": "ca1502b8",
   "metadata": {},
   "outputs": [],
   "source": []
  }
 ],
 "metadata": {
  "kernelspec": {
   "display_name": "Python 3 (ipykernel)",
   "language": "python",
   "name": "python3"
  },
  "language_info": {
   "codemirror_mode": {
    "name": "ipython",
    "version": 3
   },
   "file_extension": ".py",
   "mimetype": "text/x-python",
   "name": "python",
   "nbconvert_exporter": "python",
   "pygments_lexer": "ipython3",
   "version": "3.9.12"
  }
 },
 "nbformat": 4,
 "nbformat_minor": 5
}
