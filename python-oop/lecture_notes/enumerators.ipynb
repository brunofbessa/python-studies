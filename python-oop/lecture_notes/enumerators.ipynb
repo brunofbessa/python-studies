{
 "cells": [
  {
   "cell_type": "markdown",
   "id": "1ba2b625",
   "metadata": {},
   "source": [
    "- pep 435\n",
    "- since 3.4"
   ]
  },
  {
   "cell_type": "code",
   "execution_count": 1,
   "id": "bbb72578",
   "metadata": {},
   "outputs": [],
   "source": [
    "import enum\n",
    "\n",
    "class Colour(enum.Enum):\n",
    "    red = 1\n",
    "    green = 2\n",
    "    blue = 3\n",
    "    \n",
    "class Status(enum.Enum):\n",
    "    PENDING = 'pending'\n",
    "    RUNNING = 'running'\n",
    "    COMPLETED = 'completed'\n",
    "    \n",
    "class UnitVector(enum.Enum):\n",
    "    V1D = (1, )\n",
    "    V2D = (1, 1)\n",
    "    V3D = (1, 1, 1)"
   ]
  },
  {
   "cell_type": "code",
   "execution_count": 2,
   "id": "f362d156",
   "metadata": {},
   "outputs": [
    {
     "data": {
      "text/plain": [
       "True"
      ]
     },
     "execution_count": 2,
     "metadata": {},
     "output_type": "execute_result"
    }
   ],
   "source": [
    "isinstance(Status.PENDING, Status)"
   ]
  }
 ],
 "metadata": {
  "kernelspec": {
   "display_name": "Python 3 (ipykernel)",
   "language": "python",
   "name": "python3"
  },
  "language_info": {
   "codemirror_mode": {
    "name": "ipython",
    "version": 3
   },
   "file_extension": ".py",
   "mimetype": "text/x-python",
   "name": "python",
   "nbconvert_exporter": "python",
   "pygments_lexer": "ipython3",
   "version": "3.9.12"
  }
 },
 "nbformat": 4,
 "nbformat_minor": 5
}
