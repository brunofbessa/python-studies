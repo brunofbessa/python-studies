{
 "cells": [
  {
   "cell_type": "markdown",
   "id": "6cb1dc9d",
   "metadata": {},
   "source": [
    "## Descriptors:\n",
    "\n",
    " - __get__ -> p.x\n",
    " - __set__ -> p.x=100\n",
    " - __delete__ -> del p.x\n",
    " - __set_name__ -> for later\n",
    " \n",
    " \n",
    " For now, only non-data descriptors\n",
    " "
   ]
  },
  {
   "cell_type": "code",
   "execution_count": 5,
   "id": "6546b55e",
   "metadata": {},
   "outputs": [
    {
     "data": {
      "text/plain": [
       "'2025-04-20T01:46:19.730020'"
      ]
     },
     "execution_count": 5,
     "metadata": {},
     "output_type": "execute_result"
    }
   ],
   "source": [
    "from datetime import datetime\n",
    "\n",
    "class TimeUTC:\n",
    "    def __get__(self, instance, owner_class):\n",
    "        return datetime.utcnow().isoformat()\n",
    "    \n",
    "class Logger:\n",
    "    current_time = TimeUTC()\n",
    "    \n",
    "l = Logger()\n",
    "print(l.current_time)"
   ]
  },
  {
   "cell_type": "code",
   "execution_count": 8,
   "id": "054c9a37",
   "metadata": {},
   "outputs": [
    {
     "name": "stdout",
     "output_type": "stream",
     "text": [
      "8 Club\n",
      "2 Diamond\n",
      "J Club\n",
      "8 Diamond\n",
      "9 Diamond\n",
      "Q Heart\n",
      "J Heart\n",
      "6 Heart\n",
      "10 Space\n",
      "Q Diamond\n"
     ]
    }
   ],
   "source": [
    "from random import choice, seed\n",
    "\n",
    "\n",
    "# without descriptors\n",
    "class Deck:\n",
    "    \n",
    "    @property\n",
    "    def suit(self):\n",
    "        return choice(('Space', 'Heart', 'Diamond', 'Club'))\n",
    "    \n",
    "    @property\n",
    "    def card(self):\n",
    "        return choice(tuple('23456789JQKA')+('10', ))\n",
    "\n",
    "d = Deck()\n",
    "seed(0)\n",
    "\n",
    "for _ in range(10):\n",
    "    print(d.card, d.suit)"
   ]
  },
  {
   "cell_type": "code",
   "execution_count": 14,
   "id": "2d5ccbb6",
   "metadata": {},
   "outputs": [
    {
     "name": "stdout",
     "output_type": "stream",
     "text": [
      "7 Club\n",
      "3 Diamond\n",
      "J Diamond\n",
      "A Space\n",
      "J Diamond\n",
      "J Heart\n",
      "10 Diamond\n",
      "9 Space\n",
      "Q Club\n",
      "7 Heart\n",
      "3 2 2\n",
      "2 1 5\n",
      "6 3 4\n",
      "1 1 6\n",
      "2 2 1\n",
      "1 6 5\n",
      "6 4 6\n",
      "5 3 5\n",
      "2 2 6\n",
      "5 4 5\n"
     ]
    }
   ],
   "source": [
    "# with descriptors\n",
    "\n",
    "class Choice:\n",
    "    def __init__(self, *choices):\n",
    "        self.choices = choices\n",
    "        \n",
    "    def __get__(self, instance, owner_class):\n",
    "        return choice(self.choices)\n",
    "    \n",
    "class Deck2:\n",
    "    suit = Choice('Space', 'Heart', 'Diamond', 'Club')\n",
    "    card = Choice(*'23456789JQK', '10')\n",
    "    \n",
    "d2 = Deck2()\n",
    "\n",
    "for _ in range(10):\n",
    "    print(d.card, d.suit)\n",
    "    \n",
    "class Dice:\n",
    "    die1 = Choice(1, 2, 3, 4, 5, 6)\n",
    "    die2 = Choice(1, 2, 3, 4, 5, 6)\n",
    "    die3 = Choice(1, 2, 3, 4, 5, 6)\n",
    "    \n",
    "dice = Dice()\n",
    "for _ in range(10):\n",
    "    print(dice.die1, dice.die2, dice.die3)"
   ]
  },
  {
   "cell_type": "code",
   "execution_count": 21,
   "id": "d634f628",
   "metadata": {},
   "outputs": [
    {
     "data": {
      "text/plain": [
       "'2025-04-20T02:40:00.599780'"
      ]
     },
     "execution_count": 21,
     "metadata": {},
     "output_type": "execute_result"
    }
   ],
   "source": [
    "class TimeUTC:\n",
    "    def __get__(self, instance, owner_class):\n",
    "        if instance is None:\n",
    "            return self\n",
    "        else:\n",
    "            return datetime.utcnow().isoformat()\n",
    "        \n",
    "class Logger:\n",
    "    current_time = TimeUTC()\n",
    "    \n",
    "Logger.current_time\n",
    "\n",
    "l = Logger()\n",
    "l.current_time"
   ]
  },
  {
   "cell_type": "code",
   "execution_count": 23,
   "id": "b3c28a97",
   "metadata": {},
   "outputs": [
    {
     "name": "stdout",
     "output_type": "stream",
     "text": [
      "__get__ called in <__main__.TimeUTC object at 0x7fa1b5fef940>\n",
      "__get__ called in <__main__.TimeUTC object at 0x7fa1b5fef940>\n"
     ]
    },
    {
     "data": {
      "text/plain": [
       "('2025-04-20T02:42:45.789940', '2025-04-20T02:42:45.789952')"
      ]
     },
     "execution_count": 23,
     "metadata": {},
     "output_type": "execute_result"
    }
   ],
   "source": [
    "class TimeUTC:\n",
    "    def __get__(self, instance, owner_class):\n",
    "        if instance is None:\n",
    "            return self\n",
    "        else:\n",
    "            print(f'__get__ called in {self}')\n",
    "            return datetime.utcnow().isoformat()\n",
    "        \n",
    "class Logger:\n",
    "    current_time = TimeUTC()\n",
    "    \n",
    "l1 = Logger()\n",
    "l2 = Logger()\n",
    "\n",
    "l1.current_time, l2.current_time"
   ]
  },
  {
   "cell_type": "code",
   "execution_count": 34,
   "id": "b4496543",
   "metadata": {},
   "outputs": [],
   "source": [
    "# __set__ method \n",
    "\n",
    "\n",
    "class Integervalue:\n",
    "    def __set__(self, instance, value):\n",
    "        print(f'__set__ called, instance ={instance}, value={value}')\n",
    "        \n",
    "    def __get__(self, instance, owner_class):\n",
    "        if instance is None:\n",
    "            print('__get__ called from class')\n",
    "        else:\n",
    "            print(f'__get__ called, instance ={instance}, owner_class={owner_class}')\n",
    "            \n",
    "class Point2d:\n",
    "    x = Integervalue()\n",
    "    y = Integervalue()"
   ]
  },
  {
   "cell_type": "code",
   "execution_count": 37,
   "id": "a57ed305",
   "metadata": {},
   "outputs": [
    {
     "name": "stdout",
     "output_type": "stream",
     "text": [
      "__get__ called, instance =<__main__.Point2d object at 0x7fa1b5cf9d90>, owner_class=<class '__main__.Point2d'>\n"
     ]
    }
   ],
   "source": [
    "p = Point2d()\n",
    "p.x"
   ]
  },
  {
   "cell_type": "code",
   "execution_count": 38,
   "id": "b4fab69a",
   "metadata": {},
   "outputs": [
    {
     "name": "stdout",
     "output_type": "stream",
     "text": [
      "__set__ called, instance =<__main__.Point2d object at 0x7fa1b5cf9d90>, value=100\n"
     ]
    }
   ],
   "source": [
    "p.x = 100"
   ]
  },
  {
   "cell_type": "code",
   "execution_count": 39,
   "id": "15132d1e",
   "metadata": {},
   "outputs": [
    {
     "name": "stdout",
     "output_type": "stream",
     "text": [
      "__get__ called, instance =<__main__.Point2d object at 0x7fa1b5f94d00>, owner_class=<class '__main__.Point2d'>\n"
     ]
    }
   ],
   "source": [
    "p2 = Point2d()\n",
    "p2.x"
   ]
  },
  {
   "cell_type": "code",
   "execution_count": 41,
   "id": "383945a5",
   "metadata": {},
   "outputs": [
    {
     "name": "stdout",
     "output_type": "stream",
     "text": [
      "__get__ called, instance =<__main__.Point2d object at 0x7fa1b5cf9d90>, owner_class=<class '__main__.Point2d'>\n"
     ]
    }
   ],
   "source": [
    "p.x"
   ]
  },
  {
   "cell_type": "code",
   "execution_count": 50,
   "id": "eb279615",
   "metadata": {},
   "outputs": [
    {
     "name": "stdout",
     "output_type": "stream",
     "text": [
      "0x7fa1b78c0c10\n",
      "[<weakref at 0x7fa1b77cc3b0; to 'Point' at 0x7fa1b78c0c10>]\n",
      "[]\n"
     ]
    }
   ],
   "source": [
    "# with weak reference\n",
    "\n",
    "import weakref\n",
    "\n",
    "class IntegerValue:\n",
    "    def __init__(self):\n",
    "        self.values = weakref.WeakKeyDictionary()\n",
    "        \n",
    "    def __set__(self, instance, value):\n",
    "        self.values[instance] = int(value)\n",
    "        \n",
    "    def __get__(self, instance, owner_class):\n",
    "        if instance is None:\n",
    "            return self\n",
    "        else:\n",
    "            return self.values.get(instance)\n",
    "        \n",
    "class Point:\n",
    "    x = IntegerValue()\n",
    "    \n",
    "p = Point()\n",
    "print(hex(id(p)))\n",
    "\n",
    "p.x = 100.01\n",
    "print(Point.x.values.keyrefs())\n",
    "\n",
    "del p\n",
    "print(Point.x.values.keyrefs())\n"
   ]
  },
  {
   "cell_type": "code",
   "execution_count": 53,
   "id": "6733ff16",
   "metadata": {},
   "outputs": [
    {
     "ename": "TypeError",
     "evalue": "cannot create weak reference to 'int' object",
     "output_type": "error",
     "traceback": [
      "\u001b[0;31m---------------------------------------------------------------------------\u001b[0m",
      "\u001b[0;31mTypeError\u001b[0m                                 Traceback (most recent call last)",
      "Cell \u001b[0;32mIn[53], line 27\u001b[0m\n\u001b[1;32m     24\u001b[0m     \u001b[38;5;28;01mdef\u001b[39;00m \u001b[38;5;21m__eq__\u001b[39m(\u001b[38;5;28mself\u001b[39m, other):\n\u001b[1;32m     25\u001b[0m         \u001b[38;5;28;01mreturn\u001b[39;00m \u001b[38;5;28misinstance\u001b[39m(other, Point) \u001b[38;5;129;01mand\u001b[39;00m \u001b[38;5;28mself\u001b[39m\u001b[38;5;241m.\u001b[39mx \u001b[38;5;241m==\u001b[39m other\u001b[38;5;241m.\u001b[39mx\n\u001b[0;32m---> 27\u001b[0m p \u001b[38;5;241m=\u001b[39m \u001b[43mPoint\u001b[49m\u001b[43m(\u001b[49m\u001b[38;5;241;43m10.1\u001b[39;49m\u001b[43m)\u001b[49m\n\u001b[1;32m     28\u001b[0m \u001b[38;5;28mprint\u001b[39m(\u001b[38;5;28mhex\u001b[39m(\u001b[38;5;28mid\u001b[39m(p)))\n\u001b[1;32m     30\u001b[0m p\u001b[38;5;241m.\u001b[39mx \u001b[38;5;241m=\u001b[39m \u001b[38;5;241m100.01\u001b[39m\n",
      "Cell \u001b[0;32mIn[53], line 22\u001b[0m, in \u001b[0;36mPoint.__init__\u001b[0;34m(self, x)\u001b[0m\n\u001b[1;32m     21\u001b[0m \u001b[38;5;28;01mdef\u001b[39;00m \u001b[38;5;21m__init__\u001b[39m(\u001b[38;5;28mself\u001b[39m, x):\n\u001b[0;32m---> 22\u001b[0m     \u001b[38;5;28mself\u001b[39m\u001b[38;5;241m.\u001b[39mx \u001b[38;5;241m=\u001b[39m x\n",
      "Cell \u001b[0;32mIn[53], line 10\u001b[0m, in \u001b[0;36mIntegerValue.__set__\u001b[0;34m(self, instance, value)\u001b[0m\n\u001b[1;32m      9\u001b[0m \u001b[38;5;28;01mdef\u001b[39;00m \u001b[38;5;21m__set__\u001b[39m(\u001b[38;5;28mself\u001b[39m, instance, value):\n\u001b[0;32m---> 10\u001b[0m     \u001b[38;5;28mself\u001b[39m\u001b[38;5;241m.\u001b[39mvalues[\u001b[38;5;28mid\u001b[39m(instance)] \u001b[38;5;241m=\u001b[39m \u001b[38;5;28mint\u001b[39m(value)\n",
      "File \u001b[0;32m~/opt/anaconda3/lib/python3.9/weakref.py:429\u001b[0m, in \u001b[0;36mWeakKeyDictionary.__setitem__\u001b[0;34m(self, key, value)\u001b[0m\n\u001b[1;32m    428\u001b[0m \u001b[38;5;28;01mdef\u001b[39;00m \u001b[38;5;21m__setitem__\u001b[39m(\u001b[38;5;28mself\u001b[39m, key, value):\n\u001b[0;32m--> 429\u001b[0m     \u001b[38;5;28mself\u001b[39m\u001b[38;5;241m.\u001b[39mdata[\u001b[43mref\u001b[49m\u001b[43m(\u001b[49m\u001b[43mkey\u001b[49m\u001b[43m,\u001b[49m\u001b[43m \u001b[49m\u001b[38;5;28;43mself\u001b[39;49m\u001b[38;5;241;43m.\u001b[39;49m\u001b[43m_remove\u001b[49m\u001b[43m)\u001b[49m] \u001b[38;5;241m=\u001b[39m value\n",
      "\u001b[0;31mTypeError\u001b[0m: cannot create weak reference to 'int' object"
     ]
    }
   ],
   "source": [
    "# with weak reference\n",
    "\n",
    "import weakref\n",
    "\n",
    "class IntegerValue:\n",
    "    def __init__(self):\n",
    "        self.values = {}\n",
    "        \n",
    "    def __set__(self, instance, value):\n",
    "        self.values[id(instance)] = int(value)\n",
    "        \n",
    "    def __get__(self, instance, owner_class):\n",
    "        if instance is None:\n",
    "            return self\n",
    "        else:\n",
    "            return self.values.get(id(instance))\n",
    "        \n",
    "class Point:\n",
    "    x = IntegerValue()\n",
    "    \n",
    "    def __init__(self, x):\n",
    "        self.x = x\n",
    "        \n",
    "    def __eq__(self, other):\n",
    "        return isinstance(other, Point) and self.x == other.x\n",
    "    \n",
    "p = Point(10.1)\n",
    "print(hex(id(p)))\n",
    "\n",
    "p.x = 100.01\n",
    "print(Point.x.values.keyrefs())\n",
    "\n",
    "del p\n",
    "print(Point.x.values.keyrefs())\n"
   ]
  },
  {
   "cell_type": "code",
   "execution_count": null,
   "id": "3fb73cb3",
   "metadata": {},
   "outputs": [],
   "source": []
  }
 ],
 "metadata": {
  "kernelspec": {
   "display_name": "Python 3 (ipykernel)",
   "language": "python",
   "name": "python3"
  },
  "language_info": {
   "codemirror_mode": {
    "name": "ipython",
    "version": 3
   },
   "file_extension": ".py",
   "mimetype": "text/x-python",
   "name": "python",
   "nbconvert_exporter": "python",
   "pygments_lexer": "ipython3",
   "version": "3.9.12"
  }
 },
 "nbformat": 4,
 "nbformat_minor": 5
}
