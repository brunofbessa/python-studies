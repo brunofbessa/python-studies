{
 "cells": [
  {
   "cell_type": "code",
   "execution_count": 7,
   "id": "3eaeadc6",
   "metadata": {},
   "outputs": [
    {
     "name": "stdout",
     "output_type": "stream",
     "text": [
      "func_1 (10, 20) {'kw': 'a'}\n"
     ]
    }
   ],
   "source": [
    "# Decorators and descriptors are metaprogramming\n",
    "\n",
    "from functools import wraps\n",
    "\n",
    "def debuger(fn):\n",
    "    @wraps(fn)\n",
    "    def inner(*args, **kwargs):\n",
    "        print(f'{fn.__qualname__}', args, kwargs)\n",
    "    return inner\n",
    "    \n",
    "@debuger\n",
    "def func_1(*args, **kwargs):\n",
    "    pass\n",
    "\n",
    "@debuger\n",
    "def func_2(*args, **kwargs):\n",
    "    pass\n",
    "\n",
    "func_1(10, 20, kw='a')"
   ]
  },
  {
   "cell_type": "code",
   "execution_count": 9,
   "id": "79387ea0",
   "metadata": {},
   "outputs": [
    {
     "data": {
      "text/plain": [
       "(10, 20)"
      ]
     },
     "execution_count": 9,
     "metadata": {},
     "output_type": "execute_result"
    }
   ],
   "source": [
    "# descriptors too\n",
    "\n",
    "class Point:\n",
    "    def __init__(self, x, y):\n",
    "        self.x = x\n",
    "        self.y = y\n",
    "        \n",
    "p = Point(10, 20)\n",
    "\n",
    "p.x, p.y\n",
    "\n",
    "class IntegerField:\n",
    "    def __set_name__(self, owner, name):\n",
    "        self.name = name\n",
    "        \n",
    "    def __get__(self, instance, owner):\n",
    "        return instance.__dict__.get(self.name, None)\n",
    "    \n",
    "    def __set__(self, instance, value):\n",
    "        if not isinstance(value, int):\n",
    "            raise TypeError('Value must be int.')\n",
    "        instance.__dict__[self.name] = value\n",
    "        \n",
    "class Point2:\n",
    "    x = IntegerField()\n",
    "    y = IntegerField()\n",
    "    \n",
    "    def __init__(self, x, y):\n",
    "        self.x = x\n",
    "        serf.y = y\n",
    "        # descriptor changes the behaviour of get and set methods of Point"
   ]
  },
  {
   "cell_type": "code",
   "execution_count": 11,
   "id": "895ae986",
   "metadata": {},
   "outputs": [
    {
     "name": "stdout",
     "output_type": "stream",
     "text": [
      "BankAccount {'__module__': '__main__', '__init__': <function BankAccount.__init__ at 0x7ff22001a8b0>, '__dict__': <attribute '__dict__' of 'BankAccount' objects>, '__weakref__': <attribute '__weakref__' of 'BankAccount' objects>, '__doc__': None, 'account_type': 'Savings'}\n",
      "SavingsAccount {'__module__': '__main__', '__init__': <function SavingsAccount.__init__ at 0x7ff22001a820>, '__dict__': <attribute '__dict__' of 'SavingsAccount' objects>, '__weakref__': <attribute '__weakref__' of 'SavingsAccount' objects>, '__doc__': None, 'apr': 0.33, 'apy': None}\n"
     ]
    }
   ],
   "source": [
    "# Class decorator\n",
    "\n",
    "def savings_account(cls):\n",
    "    cls.account_type = 'Savings'\n",
    "    return cls\n",
    "\n",
    "@savings_account\n",
    "class BankAccount:\n",
    "    def __init__(self, account_number, balance):\n",
    "        self.account_number = account_number\n",
    "        self.balance = balance\n",
    "    \n",
    "BankAccount\n",
    "print('BankAccount', BankAccount.__dict__)\n",
    "        \n",
    "        \n",
    "# Decorator factory:\n",
    "def apr(rate):\n",
    "    def inner(cls):\n",
    "        cls.apr = rate\n",
    "        cls.apy = None\n",
    "        return cls\n",
    "    return inner\n",
    "\n",
    "@apr(0.33)\n",
    "class SavingsAccount:\n",
    "    def __init__(self, account_number, balance):\n",
    "        self.account_number = account_number\n",
    "        self.balance = balance\n",
    "\n",
    "b = SavingsAccount\n",
    "print('SavingsAccount', SavingsAccount.__dict__)\n"
   ]
  },
  {
   "cell_type": "code",
   "execution_count": 17,
   "id": "e9e931a7",
   "metadata": {},
   "outputs": [
    {
     "data": {
      "text/plain": [
       "'Bruno Bessa says hello!'"
      ]
     },
     "execution_count": 17,
     "metadata": {},
     "output_type": "execute_result"
    }
   ],
   "source": [
    "#inserting a function in the class with decorator\n",
    "\n",
    "def hello(cls):\n",
    "    cls.hello = lambda self: f'{self.name} says hello!'\n",
    "    return cls\n",
    "\n",
    "@hello\n",
    "class Person:\n",
    "    def __init__(self, name):\n",
    "        self.name = name\n",
    "        \n",
    "    def __str__(self):\n",
    "        return self.name\n",
    "    \n",
    "p = Person('Bruno Bessa')\n",
    "p.hello()"
   ]
  },
  {
   "cell_type": "code",
   "execution_count": 23,
   "id": "1d8154f0",
   "metadata": {},
   "outputs": [
    {
     "name": "stdout",
     "output_type": "stream",
     "text": [
      "Log Person.__init__((<__main__.Person object at 0x7ff21f304c40>, 'Bruno', '36'), {}) = None\n",
      "Log Person.greet((<__main__.Person object at 0x7ff21f304c40>,), {}) = Hello. My name is Bruno, 36 yo.\n"
     ]
    },
    {
     "data": {
      "text/plain": [
       "'Hello. My name is Bruno, 36 yo.'"
      ]
     },
     "execution_count": 23,
     "metadata": {},
     "output_type": "execute_result"
    }
   ],
   "source": [
    "from functools import wraps\n",
    "\n",
    "def func_logger(fn):\n",
    "    @wraps(fn)\n",
    "    def inner(*args, **kwargs):\n",
    "        result = fn(*args, **kwargs)\n",
    "        print(f'Log {fn.__qualname__}({args}, {kwargs}) = {result}')\n",
    "        return result\n",
    "    return inner\n",
    "\n",
    "class Person:\n",
    "    @func_logger\n",
    "    def __init__(self, name, age):\n",
    "        self.name = name\n",
    "        self.age = age\n",
    "        \n",
    "    @func_logger\n",
    "    def greet(self):\n",
    "        return f'Hello. My name is {self.name}, {self.age} yo.'\n",
    "    \n",
    "p = Person('Bruno', '36')\n",
    "p.greet()"
   ]
  },
  {
   "cell_type": "code",
   "execution_count": 24,
   "id": "a28aa817",
   "metadata": {},
   "outputs": [
    {
     "name": "stdout",
     "output_type": "stream",
     "text": [
      "decorating:  <class '__main__.Person'> __init__\n",
      "decorating:  <class '__main__.Person'> greet\n",
      "Log Person.__init__((<__main__.Person object at 0x7ff21f4640d0>, 'Bruno', '36'), {}) = None\n",
      "Log Person.greet((<__main__.Person object at 0x7ff21f4640d0>,), {}) = Hello. My name is Bruno, 36 yo.\n"
     ]
    },
    {
     "data": {
      "text/plain": [
       "'Hello. My name is Bruno, 36 yo.'"
      ]
     },
     "execution_count": 24,
     "metadata": {},
     "output_type": "execute_result"
    }
   ],
   "source": [
    "#more sofisticated\n",
    "\n",
    "def class_logger(cls):\n",
    "    for name, obj in vars(cls).items():\n",
    "        if callable(obj):\n",
    "            print('decorating: ', cls, name)\n",
    "            setattr(cls, name, func_logger(obj))\n",
    "    return cls\n",
    "\n",
    "@class_logger\n",
    "class Person:\n",
    "    def __init__(self, name, age):\n",
    "        self.name = name\n",
    "        self.age = age\n",
    "        \n",
    "    def greet(self):\n",
    "        return f'Hello. My name is {self.name}, {self.age} yo.'\n",
    "    \n",
    "p = Person('Bruno', '36')\n",
    "p.greet()"
   ]
  },
  {
   "cell_type": "code",
   "execution_count": null,
   "id": "ab5fd155",
   "metadata": {},
   "outputs": [],
   "source": []
  },
  {
   "cell_type": "code",
   "execution_count": null,
   "id": "a1b20a67",
   "metadata": {},
   "outputs": [],
   "source": []
  },
  {
   "cell_type": "code",
   "execution_count": null,
   "id": "d3b73186",
   "metadata": {},
   "outputs": [],
   "source": []
  }
 ],
 "metadata": {
  "kernelspec": {
   "display_name": "Python 3 (ipykernel)",
   "language": "python",
   "name": "python3"
  },
  "language_info": {
   "codemirror_mode": {
    "name": "ipython",
    "version": 3
   },
   "file_extension": ".py",
   "mimetype": "text/x-python",
   "name": "python",
   "nbconvert_exporter": "python",
   "pygments_lexer": "ipython3",
   "version": "3.9.12"
  }
 },
 "nbformat": 4,
 "nbformat_minor": 5
}
