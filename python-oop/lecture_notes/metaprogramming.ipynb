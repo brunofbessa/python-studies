{
 "cells": [
  {
   "cell_type": "code",
   "execution_count": 7,
   "id": "3eaeadc6",
   "metadata": {},
   "outputs": [
    {
     "name": "stdout",
     "output_type": "stream",
     "text": [
      "func_1 (10, 20) {'kw': 'a'}\n"
     ]
    }
   ],
   "source": [
    "# Decorators and descriptors are metaprogramming\n",
    "\n",
    "from functools import wraps\n",
    "\n",
    "def debuger(fn):\n",
    "    @wraps(fn)\n",
    "    def inner(*args, **kwargs):\n",
    "        print(f'{fn.__qualname__}', args, kwargs)\n",
    "    return inner\n",
    "    \n",
    "@debuger\n",
    "def func_1(*args, **kwargs):\n",
    "    pass\n",
    "\n",
    "@debuger\n",
    "def func_2(*args, **kwargs):\n",
    "    pass\n",
    "\n",
    "func_1(10, 20, kw='a')"
   ]
  },
  {
   "cell_type": "code",
   "execution_count": 9,
   "id": "79387ea0",
   "metadata": {},
   "outputs": [
    {
     "data": {
      "text/plain": [
       "(10, 20)"
      ]
     },
     "execution_count": 9,
     "metadata": {},
     "output_type": "execute_result"
    }
   ],
   "source": [
    "# descriptors too\n",
    "\n",
    "class Point:\n",
    "    def __init__(self, x, y):\n",
    "        self.x = x\n",
    "        self.y = y\n",
    "        \n",
    "p = Point(10, 20)\n",
    "\n",
    "p.x, p.y\n",
    "\n",
    "class IntegerField:\n",
    "    def __set_name__(self, owner, name):\n",
    "        self.name = name\n",
    "        \n",
    "    def __get__(self, instance, owner):\n",
    "        return instance.__dict__.get(self.name, None)\n",
    "    \n",
    "    def __set__(self, instance, value):\n",
    "        if not isinstance(value, int):\n",
    "            raise TypeError('Value must be int.')\n",
    "        instance.__dict__[self.name] = value\n",
    "        \n",
    "class Point2:\n",
    "    x = IntegerField()\n",
    "    y = IntegerField()\n",
    "    \n",
    "    def __init__(self, x, y):\n",
    "        self.x = x\n",
    "        serf.y = y\n",
    "        # descriptor changes the behaviour of get and set methods of Point"
   ]
  },
  {
   "cell_type": "code",
   "execution_count": null,
   "id": "895ae986",
   "metadata": {},
   "outputs": [],
   "source": []
  }
 ],
 "metadata": {
  "kernelspec": {
   "display_name": "Python 3 (ipykernel)",
   "language": "python",
   "name": "python3"
  },
  "language_info": {
   "codemirror_mode": {
    "name": "ipython",
    "version": 3
   },
   "file_extension": ".py",
   "mimetype": "text/x-python",
   "name": "python",
   "nbconvert_exporter": "python",
   "pygments_lexer": "ipython3",
   "version": "3.9.12"
  }
 },
 "nbformat": 4,
 "nbformat_minor": 5
}
