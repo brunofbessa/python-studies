{
 "cells": [
  {
   "cell_type": "markdown",
   "id": "a41cba81",
   "metadata": {},
   "source": [
    "## Descriptors:\n",
    "\n",
    " - __get__ -> p.x\n",
    " - __set__ -> p.x=100\n",
    " - __delete__ -> del p.x\n",
    " - __set_name__ -> for later\n",
    " \n",
    " \n",
    " For now, only non-data descriptors\n",
    " "
   ]
  },
  {
   "cell_type": "code",
   "execution_count": 5,
   "id": "af3b87f9",
   "metadata": {},
   "outputs": [
    {
     "data": {
      "text/plain": [
       "'2025-04-20T01:46:19.730020'"
      ]
     },
     "execution_count": 5,
     "metadata": {},
     "output_type": "execute_result"
    }
   ],
   "source": [
    "from datetime import datetime\n",
    "\n",
    "class TimeUTC:\n",
    "    def __get__(self, instance, owner_class):\n",
    "        return datetime.utcnow().isoformat()\n",
    "    \n",
    "class Logger:\n",
    "    current_time = TimeUTC()\n",
    "    \n",
    "l = Logger()\n",
    "print(l.current_time)"
   ]
  },
  {
   "cell_type": "code",
   "execution_count": 8,
   "id": "44960872",
   "metadata": {},
   "outputs": [
    {
     "name": "stdout",
     "output_type": "stream",
     "text": [
      "8 Club\n",
      "2 Diamond\n",
      "J Club\n",
      "8 Diamond\n",
      "9 Diamond\n",
      "Q Heart\n",
      "J Heart\n",
      "6 Heart\n",
      "10 Space\n",
      "Q Diamond\n"
     ]
    }
   ],
   "source": [
    "from random import choice, seed\n",
    "\n",
    "\n",
    "# without descriptors\n",
    "class Deck:\n",
    "    \n",
    "    @property\n",
    "    def suit(self):\n",
    "        return choice(('Space', 'Heart', 'Diamond', 'Club'))\n",
    "    \n",
    "    @property\n",
    "    def card(self):\n",
    "        return choice(tuple('23456789JQKA')+('10', ))\n",
    "\n",
    "d = Deck()\n",
    "seed(0)\n",
    "\n",
    "for _ in range(10):\n",
    "    print(d.card, d.suit)"
   ]
  },
  {
   "cell_type": "code",
   "execution_count": 14,
   "id": "34dc07a5",
   "metadata": {},
   "outputs": [
    {
     "name": "stdout",
     "output_type": "stream",
     "text": [
      "7 Club\n",
      "3 Diamond\n",
      "J Diamond\n",
      "A Space\n",
      "J Diamond\n",
      "J Heart\n",
      "10 Diamond\n",
      "9 Space\n",
      "Q Club\n",
      "7 Heart\n",
      "3 2 2\n",
      "2 1 5\n",
      "6 3 4\n",
      "1 1 6\n",
      "2 2 1\n",
      "1 6 5\n",
      "6 4 6\n",
      "5 3 5\n",
      "2 2 6\n",
      "5 4 5\n"
     ]
    }
   ],
   "source": [
    "# with descriptors\n",
    "\n",
    "class Choice:\n",
    "    def __init__(self, *choices):\n",
    "        self.choices = choices\n",
    "        \n",
    "    def __get__(self, instance, owner_class):\n",
    "        return choice(self.choices)\n",
    "    \n",
    "class Deck2:\n",
    "    suit = Choice('Space', 'Heart', 'Diamond', 'Club')\n",
    "    card = Choice(*'23456789JQK', '10')\n",
    "    \n",
    "d2 = Deck2()\n",
    "\n",
    "for _ in range(10):\n",
    "    print(d.card, d.suit)\n",
    "    \n",
    "class Dice:\n",
    "    die1 = Choice(1, 2, 3, 4, 5, 6)\n",
    "    die2 = Choice(1, 2, 3, 4, 5, 6)\n",
    "    die3 = Choice(1, 2, 3, 4, 5, 6)\n",
    "    \n",
    "dice = Dice()\n",
    "for _ in range(10):\n",
    "    print(dice.die1, dice.die2, dice.die3)"
   ]
  },
  {
   "cell_type": "code",
   "execution_count": 21,
   "id": "e431b7cd",
   "metadata": {},
   "outputs": [
    {
     "data": {
      "text/plain": [
       "'2025-04-20T02:40:00.599780'"
      ]
     },
     "execution_count": 21,
     "metadata": {},
     "output_type": "execute_result"
    }
   ],
   "source": [
    "class TimeUTC:\n",
    "    def __get__(self, instance, owner_class):\n",
    "        if instance is None:\n",
    "            return self\n",
    "        else:\n",
    "            return datetime.utcnow().isoformat()\n",
    "        \n",
    "class Logger:\n",
    "    current_time = TimeUTC()\n",
    "    \n",
    "Logger.current_time\n",
    "\n",
    "l = Logger()\n",
    "l.current_time"
   ]
  },
  {
   "cell_type": "code",
   "execution_count": 23,
   "id": "52293614",
   "metadata": {},
   "outputs": [
    {
     "name": "stdout",
     "output_type": "stream",
     "text": [
      "__get__ called in <__main__.TimeUTC object at 0x7fa1b5fef940>\n",
      "__get__ called in <__main__.TimeUTC object at 0x7fa1b5fef940>\n"
     ]
    },
    {
     "data": {
      "text/plain": [
       "('2025-04-20T02:42:45.789940', '2025-04-20T02:42:45.789952')"
      ]
     },
     "execution_count": 23,
     "metadata": {},
     "output_type": "execute_result"
    }
   ],
   "source": [
    "class TimeUTC:\n",
    "    def __get__(self, instance, owner_class):\n",
    "        if instance is None:\n",
    "            return self\n",
    "        else:\n",
    "            print(f'__get__ called in {self}')\n",
    "            return datetime.utcnow().isoformat()\n",
    "        \n",
    "class Logger:\n",
    "    current_time = TimeUTC()\n",
    "    \n",
    "l1 = Logger()\n",
    "l2 = Logger()\n",
    "\n",
    "l1.current_time, l2.current_time"
   ]
  },
  {
   "cell_type": "code",
   "execution_count": 34,
   "id": "e9114ebc",
   "metadata": {},
   "outputs": [],
   "source": [
    "# __set__ method \n",
    "\n",
    "\n",
    "class Integervalue:\n",
    "    def __set__(self, instance, value):\n",
    "        print(f'__set__ called, instance ={instance}, value={value}')\n",
    "        \n",
    "    def __get__(self, instance, owner_class):\n",
    "        if instance is None:\n",
    "            print('__get__ called from class')\n",
    "        else:\n",
    "            print(f'__get__ called, instance ={instance}, owner_class={owner_class}')\n",
    "            \n",
    "class Point2d:\n",
    "    x = Integervalue()\n",
    "    y = Integervalue()"
   ]
  },
  {
   "cell_type": "code",
   "execution_count": 37,
   "id": "be45c2bc",
   "metadata": {},
   "outputs": [
    {
     "name": "stdout",
     "output_type": "stream",
     "text": [
      "__get__ called, instance =<__main__.Point2d object at 0x7fa1b5cf9d90>, owner_class=<class '__main__.Point2d'>\n"
     ]
    }
   ],
   "source": [
    "p = Point2d()\n",
    "p.x"
   ]
  },
  {
   "cell_type": "code",
   "execution_count": 38,
   "id": "45fdc10e",
   "metadata": {},
   "outputs": [
    {
     "name": "stdout",
     "output_type": "stream",
     "text": [
      "__set__ called, instance =<__main__.Point2d object at 0x7fa1b5cf9d90>, value=100\n"
     ]
    }
   ],
   "source": [
    "p.x = 100"
   ]
  },
  {
   "cell_type": "code",
   "execution_count": 39,
   "id": "077f0ba5",
   "metadata": {},
   "outputs": [
    {
     "name": "stdout",
     "output_type": "stream",
     "text": [
      "__get__ called, instance =<__main__.Point2d object at 0x7fa1b5f94d00>, owner_class=<class '__main__.Point2d'>\n"
     ]
    }
   ],
   "source": [
    "p2 = Point2d()\n",
    "p2.x"
   ]
  },
  {
   "cell_type": "code",
   "execution_count": 41,
   "id": "edb230c5",
   "metadata": {},
   "outputs": [
    {
     "name": "stdout",
     "output_type": "stream",
     "text": [
      "__get__ called, instance =<__main__.Point2d object at 0x7fa1b5cf9d90>, owner_class=<class '__main__.Point2d'>\n"
     ]
    }
   ],
   "source": [
    "p.x"
   ]
  },
  {
   "cell_type": "code",
   "execution_count": 50,
   "id": "51cae09b",
   "metadata": {},
   "outputs": [
    {
     "name": "stdout",
     "output_type": "stream",
     "text": [
      "0x7fa1b78c0c10\n",
      "[<weakref at 0x7fa1b77cc3b0; to 'Point' at 0x7fa1b78c0c10>]\n",
      "[]\n"
     ]
    }
   ],
   "source": [
    "# with weak reference\n",
    "\n",
    "import weakref\n",
    "\n",
    "class IntegerValue:\n",
    "    def __init__(self):\n",
    "        self.values = weakref.WeakKeyDictionary()\n",
    "        \n",
    "    def __set__(self, instance, value):\n",
    "        self.values[instance] = int(value)\n",
    "        \n",
    "    def __get__(self, instance, owner_class):\n",
    "        if instance is None:\n",
    "            return self\n",
    "        else:\n",
    "            return self.values.get(instance)\n",
    "        \n",
    "class Point:\n",
    "    x = IntegerValue()\n",
    "    \n",
    "p = Point()\n",
    "print(hex(id(p)))\n",
    "\n",
    "p.x = 100.01\n",
    "print(Point.x.values.keyrefs())\n",
    "\n",
    "del p\n",
    "print(Point.x.values.keyrefs())\n"
   ]
  },
  {
   "cell_type": "code",
   "execution_count": 55,
   "id": "36387faa",
   "metadata": {},
   "outputs": [
    {
     "name": "stdout",
     "output_type": "stream",
     "text": [
      "0x7fa1b76afe20\n"
     ]
    }
   ],
   "source": [
    "# with weak reference\n",
    "\n",
    "import weakref\n",
    "\n",
    "class IntegerValue:\n",
    "    def __init__(self):\n",
    "        self.values = {}\n",
    "        \n",
    "    def __set__(self, instance, value):\n",
    "        self.values[id(instance)] = int(value)\n",
    "        \n",
    "    def __get__(self, instance, owner_class):\n",
    "        if instance is None:\n",
    "            return self\n",
    "        else:\n",
    "            return self.values.get(id(instance))\n",
    "        \n",
    "class Point:\n",
    "    x = IntegerValue()\n",
    "    \n",
    "    def __init__(self, x):\n",
    "        self.x = x\n",
    "        \n",
    "    def __eq__(self, other):\n",
    "        return isinstance(other, Point) and self.x == other.x\n",
    "    \n",
    "p = Point(10.1)\n",
    "print(hex(id(p)))\n",
    "\n",
    "p.x = 100.01\n",
    "#print(Point.x.values.keyrefs())\n",
    "\n",
    "del p\n",
    "#print(Point.x.values.keyrefs())\n"
   ]
  },
  {
   "cell_type": "code",
   "execution_count": 58,
   "id": "7d70beab",
   "metadata": {},
   "outputs": [
    {
     "name": "stdout",
     "output_type": "stream",
     "text": [
      "age: must be a non-negative integer\n"
     ]
    },
    {
     "data": {
      "text/plain": [
       "{'_age': 10}"
      ]
     },
     "execution_count": 58,
     "metadata": {},
     "output_type": "execute_result"
    }
   ],
   "source": [
    "# descriptor is a property\n",
    "\n",
    "\n",
    "from numbers import Integral\n",
    "\n",
    "class Person:\n",
    "    \n",
    "    @property\n",
    "    def age(self):\n",
    "        return getattr(self, '_age', None)\n",
    "    \n",
    "    @age.setter\n",
    "    def age(self, value):\n",
    "        if not isinstance(value, Integral):\n",
    "            raise ValueError('age: must be an integer.')\n",
    "        if value < 0:\n",
    "            raise ValueError('age: must be a non-negative integer')\n",
    "        self._age = value\n",
    "        \n",
    "\n",
    "p = Person()\n",
    "try:\n",
    "    p.age = -10\n",
    "except ValueError as ex:\n",
    "    print(ex)\n",
    "            \n",
    "            \n",
    "    \n",
    "p.age = 10\n",
    "\n",
    "p.__dict__"
   ]
  },
  {
   "cell_type": "code",
   "execution_count": null,
   "id": "4ad31bd3",
   "metadata": {},
   "outputs": [],
   "source": [
    "# Applicaiton\n",
    "\n",
    "class Int:\n",
    "    \n",
    "    def __set_name__(name, owner_class, prop_name):\n",
    "        self.prop_name = prop_name\n",
    "        \n",
    "    def __set__(self, instance, value):\n",
    "        if not isinstance(calue, int):\n",
    "            raise ValueError(f'{self.prop_name} must be an integer')\n",
    "        instance.__dict__[self.prop_name] = name\n",
    "    \n",
    "    def __get(self, instance, owner_class):\n",
    "        if instance is None:\n",
    "            return self\n",
    "        else:\n",
    "            return instance.__dict__.get(self.prop_name, None)\n",
    "        \n",
    "    \n",
    "class Float:\n",
    "    \n",
    "    def __set_name__(name, owner_class, prop_name):\n",
    "        self.prop_name = prop_name\n",
    "        \n",
    "    def __set__(self, instance, value):\n",
    "        if not isinstance(calue, float):\n",
    "            raise ValueError(f'{self.prop_name} must be an float')\n",
    "        instance.__dict__[self.prop_name] = name\n",
    "    \n",
    "    def __get(self, instance, owner_class):\n",
    "        if instance is None:\n",
    "            return self\n",
    "        else:\n",
    "            return instance.__dict__.get(self.prop_name, None)\n",
    "        \n",
    "        \n",
    "class List:\n",
    "    \n",
    "    def __set_name__(name, owner_class, prop_name):\n",
    "        self.prop_name = prop_name\n",
    "        \n",
    "    def __set__(self, instance, value):\n",
    "        if not isinstance(calue, list):\n",
    "            raise ValueError(f'{self.prop_name} must be an list')\n",
    "        instance.__dict__[self.prop_name] = name\n",
    "    \n",
    "    def __get(self, instance, owner_class):\n",
    "        if instance is None:\n",
    "            return self\n",
    "        else:\n",
    "            return instance.__dict__.get(self.prop_name, None)\n",
    "\n",
    "#repetition...\n",
    "#possible solution:\n",
    "\n",
    "class ValidType:\n",
    "    \n",
    "    def __init__(self, type_):\n",
    "        self._type = type_\n",
    "        \n",
    "    def __set_name__(name, owner_class, prop_name):\n",
    "        self.prop_name = prop_name\n",
    "        \n",
    "    def __set__(self, instance, value):\n",
    "        if not isinstance(calue, _type):\n",
    "            raise ValueError(f'{self.prop_name} must be an {str(self._type.__name__)}')\n",
    "        instance.__dict__[self.prop_name] = name\n",
    "    \n",
    "    def __get(self, instance, owner_class):\n",
    "        if instance is None:\n",
    "            return self\n",
    "        else:\n",
    "            return instance.__dict__.get(self.prop_name, None)"
   ]
  }
 ],
 "metadata": {
  "kernelspec": {
   "display_name": "Python 3 (ipykernel)",
   "language": "python",
   "name": "python3"
  },
  "language_info": {
   "codemirror_mode": {
    "name": "ipython",
    "version": 3
   },
   "file_extension": ".py",
   "mimetype": "text/x-python",
   "name": "python",
   "nbconvert_exporter": "python",
   "pygments_lexer": "ipython3",
   "version": "3.9.12"
  }
 },
 "nbformat": 4,
 "nbformat_minor": 5
}
