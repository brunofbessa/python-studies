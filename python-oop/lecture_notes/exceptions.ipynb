{
 "cells": [
  {
   "cell_type": "code",
   "execution_count": 6,
   "id": "5752d5e8",
   "metadata": {},
   "outputs": [
    {
     "name": "stdout",
     "output_type": "stream",
     "text": [
      "(<class 'ZeroDivisionError'>, ZeroDivisionError('division by zero'), <traceback object at 0x7fd3fd3e9300>)\n",
      "this is executed.\n"
     ]
    }
   ],
   "source": [
    "# collect information on bare exception handlers\n",
    "\n",
    "import sys\n",
    "\n",
    "try: \n",
    "    1/0\n",
    "except:\n",
    "    #pass\n",
    "    print(sys.exc_info())\n",
    "finally:\n",
    "    print('this is executed.')"
   ]
  },
  {
   "cell_type": "code",
   "execution_count": 16,
   "id": "084b140a",
   "metadata": {},
   "outputs": [
    {
     "ename": "Er",
     "evalue": "custom args",
     "output_type": "error",
     "traceback": [
      "\u001b[0;31m---------------------------------------------------------------------------\u001b[0m",
      "\u001b[0;31mEr\u001b[0m                                        Traceback (most recent call last)",
      "Cell \u001b[0;32mIn[16], line 6\u001b[0m\n\u001b[1;32m      3\u001b[0m \u001b[38;5;28;01mclass\u001b[39;00m \u001b[38;5;21;01mEr\u001b[39;00m(\u001b[38;5;167;01mBaseException\u001b[39;00m):\n\u001b[1;32m      4\u001b[0m     \u001b[38;5;28;01mpass\u001b[39;00m\n\u001b[0;32m----> 6\u001b[0m \u001b[38;5;28;01mraise\u001b[39;00m Er(\u001b[38;5;124m'\u001b[39m\u001b[38;5;124mcustom args\u001b[39m\u001b[38;5;124m'\u001b[39m)\n",
      "\u001b[0;31mEr\u001b[0m: custom args"
     ]
    }
   ],
   "source": [
    "# exceptions must derive from BaseException\n",
    "\n",
    "class Er(BaseException):\n",
    "    pass\n",
    "\n",
    "raise Er('custom args')"
   ]
  },
  {
   "cell_type": "code",
   "execution_count": null,
   "id": "a0f401f8",
   "metadata": {},
   "outputs": [],
   "source": []
  },
  {
   "cell_type": "code",
   "execution_count": null,
   "id": "0402e640",
   "metadata": {},
   "outputs": [],
   "source": []
  },
  {
   "cell_type": "code",
   "execution_count": null,
   "id": "b35a1605",
   "metadata": {},
   "outputs": [],
   "source": []
  }
 ],
 "metadata": {
  "kernelspec": {
   "display_name": "Python 3 (ipykernel)",
   "language": "python",
   "name": "python3"
  },
  "language_info": {
   "codemirror_mode": {
    "name": "ipython",
    "version": 3
   },
   "file_extension": ".py",
   "mimetype": "text/x-python",
   "name": "python",
   "nbconvert_exporter": "python",
   "pygments_lexer": "ipython3",
   "version": "3.9.12"
  }
 },
 "nbformat": 4,
 "nbformat_minor": 5
}
