{
 "cells": [
  {
   "cell_type": "markdown",
   "id": "f39fb92c",
   "metadata": {},
   "source": [
    "## Python Metaprogramming in Practice [O’Reilly Live Event]\n",
    "\n",
    "Apr. 23th 2025\n",
    "\n",
    "### Course outcomes\n",
    "\n",
    "• Make decorators to augment the behavior of functions and/or classes\n",
    "• Customize classes just as much as you can customize class instances\n",
    "• Start your own Python framework that deeply customizes Python’s classes\n",
    "\n",
    "### Course description\n",
    "\n",
    "If you can imagine a Python feature that doesn’t exist, you might be able to invent it yourself using one of Python’s metaprogramming features.\n",
    "\n",
    "Join expert Trey Hunner to dive into the low-level metaprogramming features that Python provides for library and framework authors. You'll explore decorators, descriptors, and metaclasses, and see how each of these Python features works and what power they hold. You’ll also understand the trade-offs behind these different features: some are marginally more powerful but considerably more complex and should be used with caution.\n",
    "\n",
    "With Trey Hunner\n",
    "https://meta-olt.pym.dev/\n"
   ]
  },
  {
   "cell_type": "markdown",
   "id": "c576ebf9",
   "metadata": {},
   "source": [
    "Functions in python are objecs (first class), that can be assigned a name, and are callable. Can be defined anywhere.\n",
    "\n",
    "*Closure (higher-order functions):* when a fuction has an enclosing external scope. \n",
    "\n",
    "*Decorator:* a type a function that accepts a function as argument and returns another function. Used to expand the behaviour of a function. \n",
    "\n",
    "*Descriptor:* a method bound to a class with a \\__get\\__ in it.\n"
   ]
  },
  {
   "cell_type": "code",
   "execution_count": 6,
   "id": "b1b0b314",
   "metadata": {},
   "outputs": [
    {
     "name": "stdout",
     "output_type": "stream",
     "text": [
      "Function starts.\n",
      "Function ends.\n",
      "5.0\n",
      "Function starts.\n",
      "Hello, Person!\n",
      "Function ends.\n"
     ]
    }
   ],
   "source": [
    "from functools import wraps\n",
    "\n",
    "def call_logger(func):\n",
    "    @wraps(func)\n",
    "    def wrapper(*args, **kwargs):\n",
    "        print('Function starts.')\n",
    "        value = func(*args, **kwargs)\n",
    "        print('Function ends.')\n",
    "        return value\n",
    "    return wrapper\n",
    "    \n",
    "@call_logger\n",
    "def divide(x, y):\n",
    "    \"\"\"Return x divided by y\"\"\"\n",
    "    return x / y\n",
    "\n",
    "@call_logger\n",
    "def greet(name):\n",
    "    print(f'Hello, {name}!')\n",
    "\n",
    "\n",
    "print(divide(10, 2))\n",
    "greet('Person')\n"
   ]
  },
  {
   "cell_type": "code",
   "execution_count": null,
   "id": "96085a6b",
   "metadata": {},
   "outputs": [],
   "source": []
  },
  {
   "cell_type": "code",
   "execution_count": null,
   "id": "f42e73fe",
   "metadata": {},
   "outputs": [],
   "source": []
  },
  {
   "cell_type": "code",
   "execution_count": null,
   "id": "26fda60c",
   "metadata": {},
   "outputs": [],
   "source": []
  }
 ],
 "metadata": {
  "kernelspec": {
   "display_name": "Python 3 (ipykernel)",
   "language": "python",
   "name": "python3"
  },
  "language_info": {
   "codemirror_mode": {
    "name": "ipython",
    "version": 3
   },
   "file_extension": ".py",
   "mimetype": "text/x-python",
   "name": "python",
   "nbconvert_exporter": "python",
   "pygments_lexer": "ipython3",
   "version": "3.9.12"
  }
 },
 "nbformat": 4,
 "nbformat_minor": 5
}
